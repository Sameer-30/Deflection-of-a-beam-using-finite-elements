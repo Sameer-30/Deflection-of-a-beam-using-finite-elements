{
  "nbformat": 4,
  "nbformat_minor": 0,
  "metadata": {
    "colab": {
      "private_outputs": true,
      "provenance": [],
      "authorship_tag": "ABX9TyO2inH25qRgW3Mka4wRq2xa",
      "include_colab_link": true
    },
    "kernelspec": {
      "name": "python3",
      "display_name": "Python 3"
    },
    "language_info": {
      "name": "python"
    }
  },
  "cells": [
    {
      "cell_type": "markdown",
      "metadata": {
        "id": "view-in-github",
        "colab_type": "text"
      },
      "source": [
        "<a href=\"https://colab.research.google.com/github/Sameer-30/Deflection-of-a-beam-using-finite-elements/blob/main/Beam_Analysis.ipynb\" target=\"_parent\"><img src=\"https://colab.research.google.com/assets/colab-badge.svg\" alt=\"Open In Colab\"/></a>"
      ]
    },
    {
      "cell_type": "markdown",
      "source": [],
      "metadata": {
        "id": "j9tdHw4p-My0"
      }
    },
    {
      "cell_type": "markdown",
      "source": [
        "# Beam Deflection Analysis for Clamped-Clamped Beam Under Uniform Load\n",
        "\n",
        "## Question Statement\n",
        "\n",
        "A uniform Euler-Bernoulli beam of length 1 meter is made of steel with the following properties:\n",
        "\n",
        "- **Young’s Modulus (E)**: \\( 200 \\times 10^9 \\, \\text{Pa} \\)\n",
        "- **Density (ρ)**: \\( 7800 \\, \\text{kg/m}^3 \\)\n",
        "- **Cross-section**:\n",
        "  - **Width (b)**: 10 mm\n",
        "  - **Height (h)**: 5 mm\n",
        "  - **Moment of Inertia (I)**:\n",
        "  \\[\n",
        "  I = \\frac{b h^3}{12}\n",
        "  \\]\n",
        "  - **Cross-sectional Area (A)**:\n",
        "  \\[\n",
        "  A = b h\n",
        "  \\]\n",
        "\n",
        "The beam is divided into 40 finite elements for analysis.\n",
        "\n",
        "### Boundary Condition\n",
        "The beam is clamped at both ends (clamped-clamped condition), meaning zero displacement and zero rotation at both ends (fixed supports).\n",
        "\n",
        "### Loading Condition\n",
        "The beam is subjected to a uniformly distributed gravity load along its length. The load per unit length is given by:\n",
        "\\[\n",
        "q = - \\rho A g\n",
        "\\]\n",
        "Where:\n",
        "- \\( g = 9.81 \\, \\text{m/s}^2 \\) (acceleration due to gravity).\n",
        "\n",
        "---\n",
        "\n",
        "Please use this information to perform the beam deflection analysis under the clamped-clamped boundary condition.\n"
      ],
      "metadata": {
        "id": "5WpzQd-G-2a2"
      }
    },
    {
      "cell_type": "markdown",
      "source": [
        "#1. Define Material & Beam Properties"
      ],
      "metadata": {
        "id": "mnTvZdYo_FLF"
      }
    },
    {
      "cell_type": "code",
      "source": [
        "E = 200e9  # Young's modulus in Pascals (N/m²)\n",
        "rho = 7800  # Density in kg/m³\n",
        "g = 9.81    # Acceleration due to gravity (m/s²)\n",
        "L = 1.0     # Total beam length in meters\n",
        "b = 0.010   # Beam width in meters\n",
        "h = 0.005   # Beam height in meters\n",
        "A = b * h   # Cross-sectional area\n",
        "I = (b * h**3) / 12  # Moment of inertia\n"
      ],
      "metadata": {
        "id": "t3Na4eXy_IAt"
      },
      "execution_count": null,
      "outputs": []
    },
    {
      "cell_type": "markdown",
      "source": [
        "#2. Define Finite Element Parameters"
      ],
      "metadata": {
        "id": "2UfDek6n_X2A"
      }
    },
    {
      "cell_type": "code",
      "source": [
        "N = 40       # Number of elements\n",
        "Nnodes = N + 1  # Number of nodes\n",
        "ell = L / N  # Length of each element\n"
      ],
      "metadata": {
        "id": "FmVGcasH_R28"
      },
      "execution_count": null,
      "outputs": []
    },
    {
      "cell_type": "markdown",
      "source": [
        "#3. Construct Element Stiffness Matrix for Beam"
      ],
      "metadata": {
        "id": "ySN_oV89_mi1"
      }
    },
    {
      "cell_type": "code",
      "source": [
        "K_e = (E * I / ell**3) * np.array([\n",
        "    [12, 6 * ell, -12, 6 * ell],\n",
        "    [6 * ell, 4 * ell**2, -6 * ell, 2 * ell**2],\n",
        "    [-12, -6 * ell, 12, -6 * ell],\n",
        "    [6 * ell, 2 * ell**2, -6 * ell, 4 * ell**2]\n",
        "])\n"
      ],
      "metadata": {
        "id": "dXQQxEYJ_g_v"
      },
      "execution_count": null,
      "outputs": []
    },
    {
      "cell_type": "markdown",
      "source": [
        "#4. Assemble Global Stiffness Matrix"
      ],
      "metadata": {
        "id": "2-84H8I9_3U9"
      }
    },
    {
      "cell_type": "code",
      "source": [
        "K = np.zeros((2 * Nnodes, 2 * Nnodes))\n",
        "\n",
        "for i in range(N):\n",
        "    K_local_indices = np.arange(2 * i, 2 * i + 4)\n",
        "    K[np.ix_(K_local_indices, K_local_indices)] += K_e\n"
      ],
      "metadata": {
        "id": "AyQCfyfq_ryI"
      },
      "execution_count": null,
      "outputs": []
    },
    {
      "cell_type": "markdown",
      "source": [
        "#5. Apply Uniformly Distributed Load (UDL)"
      ],
      "metadata": {
        "id": "E4BVS--0AEdY"
      }
    },
    {
      "cell_type": "code",
      "source": [
        "q = -rho * A * g  # Load per unit length (N/m)\n",
        "f = np.zeros((2 * Nnodes, 1))\n",
        "\n",
        "q_el = np.array([q * ell / 2, q * ell**2 / 12, q * ell / 2, -q * ell**2 / 12]).reshape(4, 1)\n",
        "\n",
        "for i in range(N):\n",
        "    f_local_indices = np.arange(2 * i, 2 * i + 4)\n",
        "    f[f_local_indices] += q_el\n"
      ],
      "metadata": {
        "id": "KQa_0fZv_7rK"
      },
      "execution_count": null,
      "outputs": []
    },
    {
      "cell_type": "markdown",
      "source": [
        "#6. Apply Boundary Conditions (Clamped-Clamped)"
      ],
      "metadata": {
        "id": "UWQagsUwAZcE"
      }
    },
    {
      "cell_type": "code",
      "source": [
        "bc_indices = [0, 1, 2 * Nnodes - 2, 2 * Nnodes - 1]  # Fixed DOFs\n",
        "\n",
        "K = np.delete(K, bc_indices, axis=0)\n",
        "K = np.delete(K, bc_indices, axis=1)\n",
        "f = np.delete(f, bc_indices, axis=0)\n"
      ],
      "metadata": {
        "id": "pZH9Gc55AIS9"
      },
      "execution_count": null,
      "outputs": []
    },
    {
      "cell_type": "markdown",
      "source": [
        "#7. Solve for Displacements"
      ],
      "metadata": {
        "id": "y8mi63naAkux"
      }
    },
    {
      "cell_type": "code",
      "source": [
        "dx_vec = np.linalg.solve(K, f)\n"
      ],
      "metadata": {
        "id": "2RND1fw-AdMt"
      },
      "execution_count": null,
      "outputs": []
    },
    {
      "cell_type": "markdown",
      "source": [
        "#8. Reconstruct Full Displacement Vector"
      ],
      "metadata": {
        "id": "n9Zupo6WAsu1"
      }
    },
    {
      "cell_type": "code",
      "source": [
        "dx = np.zeros(Nnodes)\n",
        "dtheta = np.zeros(Nnodes)\n",
        "\n",
        "# Correct extraction: displacements are even indices, rotations are odd indices\n",
        "displacements = dx_vec[::2, 0]   # Every even index (w1, w2, ..., w39)\n",
        "rotations = dx_vec[1::2, 0]      # Every odd index (theta1, theta2, ..., theta39)\n",
        "\n",
        "dx[1:-1] = displacements\n",
        "dtheta[1:-1] = rotations\n",
        "\n",
        "# Convert deflection to mm for better visualization\n",
        "dx_mm = dx * 1000\n"
      ],
      "metadata": {
        "id": "gFmh31biApRO"
      },
      "execution_count": null,
      "outputs": []
    },
    {
      "cell_type": "markdown",
      "source": [
        "#9. Plot Results"
      ],
      "metadata": {
        "id": "tivj5DFpA4Z2"
      }
    },
    {
      "cell_type": "code",
      "source": [
        "x = np.linspace(0, L, Nnodes)  # Nodal positions\n",
        "\n",
        "fig, ax = plt.subplots(3, 1, figsize=(8, 12), sharex=True)\n",
        "\n",
        "ax[0].plot(x, np.zeros_like(x), 'k-', lw=3, label=\"Beam\")\n",
        "ax[0].quiver(x, np.zeros_like(x) + 0.002, np.zeros_like(x), np.full_like(x, -0.01),\n",
        "             angles='xy', scale_units='xy', scale=1, color='r', width=0.003, headwidth=3, headlength=5)\n",
        "ax[0].set_ylabel(\"Beam & Load\")\n",
        "ax[0].set_title(\"Clamped-Clamped Beam with Uniform Load\")\n",
        "ax[0].legend(loc='upper right')\n",
        "ax[0].grid(True)\n",
        "ax[0].set_ylim(-0.12, 0.05)  # Adjust to show arrows\n",
        "\n",
        "ax[1].plot(x, dx_mm, 'b-', lw=2, label=\"Deflection (mm)\")\n",
        "ax[1].set_ylabel(\"Deflection [mm]\")\n",
        "ax[1].set_title(\"Deflected Shape\")\n",
        "ax[1].axhline(0, color='k', linestyle='--', lw=1)\n",
        "ax[1].legend()\n",
        "ax[1].grid(True)\n",
        "\n",
        "ax[2].plot(x, dtheta, 'g-', lw=2, label=\"Slope (radians)\")\n",
        "ax[2].set_ylabel(\"Slope [radians]\")\n",
        "ax[2].set_xlabel(\"Beam Length [m]\")\n",
        "ax[2].set_title(\"Slope Along the Beam\")\n",
        "ax[2].axhline(0, color='k', linestyle='--', lw=1)\n",
        "ax[2].legend()\n",
        "ax[2].grid(True)\n",
        "\n",
        "plt.tight_layout()\n",
        "plt.show()\n"
      ],
      "metadata": {
        "id": "QTKc4VpiAwxf"
      },
      "execution_count": null,
      "outputs": []
    },
    {
      "cell_type": "code",
      "source": [],
      "metadata": {
        "id": "xifR9Dm-BMVs"
      },
      "execution_count": null,
      "outputs": []
    }
  ]
}